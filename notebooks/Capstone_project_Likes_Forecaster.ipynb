{
 "cells": [
  {
   "cell_type": "markdown",
   "metadata": {},
   "source": [
    "# Capstone Project - Likes Forecaster"
   ]
  },
  {
   "cell_type": "markdown",
   "metadata": {},
   "source": [
    "## Introduction/Business Problem\n",
    "\n",
    "This project aims to construct a regression model for the task of forecasting the number of likes that has each venue. For the purpose of simplicity, we will only consider venues located in New York City. The project is directed to an audience of business owners, or potential business owners, that would like to know which features could enchance their popularity in FourSquare (measured as the number of likes in the platform). We will use the FourSquare API for retrieving the information related with the venues, including their location, category, and number of likes. Also, we will associate each venue with a neighborhood and a borough of New York.\n",
    "\n",
    "## Data \n",
    "\n",
    "The Datasets that will be used in this project are:\n",
    "\n",
    "- **newyork_data.json**: Given in the notebook *DS0701EN-3-3-2-Neighborhoods-New-York-py-v1.0.ipynb* from the third week of the Capstone project. It includes the data of the neighborhoods of New York City, their Borough, latitude and longitude.\n",
    "\n",
    "- **FourSquare Data**: From the FourSquare API we will need the information of the venues that are near to certain neighborhoods of Ney York. The venues information includes their latitude, longitude, id, and category. After that, we will use the id of each venue for getting their number of likes.\n",
    "\n",
    "As the dataset is alredy constructed, a few rows of it will be shown below.\n",
    "\n"
   ]
  },
  {
   "cell_type": "code",
   "execution_count": 1,
   "metadata": {},
   "outputs": [],
   "source": [
    "import pandas as pd"
   ]
  },
  {
   "cell_type": "code",
   "execution_count": 4,
   "metadata": {},
   "outputs": [
    {
     "data": {
      "text/html": [
       "<div>\n",
       "<style scoped>\n",
       "    .dataframe tbody tr th:only-of-type {\n",
       "        vertical-align: middle;\n",
       "    }\n",
       "\n",
       "    .dataframe tbody tr th {\n",
       "        vertical-align: top;\n",
       "    }\n",
       "\n",
       "    .dataframe thead th {\n",
       "        text-align: right;\n",
       "    }\n",
       "</style>\n",
       "<table border=\"1\" class=\"dataframe\">\n",
       "  <thead>\n",
       "    <tr style=\"text-align: right;\">\n",
       "      <th></th>\n",
       "      <th>Neighborhood</th>\n",
       "      <th>Neighborhood Latitude</th>\n",
       "      <th>Neighborhood Longitude</th>\n",
       "      <th>Venue</th>\n",
       "      <th>Venue Latitude</th>\n",
       "      <th>Venue Longitude</th>\n",
       "      <th>Venue Category</th>\n",
       "      <th>id</th>\n",
       "      <th>likes</th>\n",
       "    </tr>\n",
       "  </thead>\n",
       "  <tbody>\n",
       "    <tr>\n",
       "      <th>0</th>\n",
       "      <td>Concourse Village</td>\n",
       "      <td>40.824780</td>\n",
       "      <td>-73.915847</td>\n",
       "      <td>Perry Coffee Shop.</td>\n",
       "      <td>40.823181</td>\n",
       "      <td>-73.910928</td>\n",
       "      <td>Diner</td>\n",
       "      <td>4fa534cee4b0fed4819dc7d4</td>\n",
       "      <td>8</td>\n",
       "    </tr>\n",
       "    <tr>\n",
       "      <th>1</th>\n",
       "      <td>Bedford Park</td>\n",
       "      <td>40.870185</td>\n",
       "      <td>-73.885512</td>\n",
       "      <td>Lena Restaurant</td>\n",
       "      <td>40.869840</td>\n",
       "      <td>-73.890467</td>\n",
       "      <td>Mexican Restaurant</td>\n",
       "      <td>4c1bce70b306c92839d262b7</td>\n",
       "      <td>3</td>\n",
       "    </tr>\n",
       "    <tr>\n",
       "      <th>2</th>\n",
       "      <td>Ozone Park</td>\n",
       "      <td>40.680708</td>\n",
       "      <td>-73.843203</td>\n",
       "      <td>Dunkin' / Baskin-Robbins</td>\n",
       "      <td>40.681115</td>\n",
       "      <td>-73.845119</td>\n",
       "      <td>Donut Shop</td>\n",
       "      <td>4c252a61c11dc9b634bc2624</td>\n",
       "      <td>39</td>\n",
       "    </tr>\n",
       "    <tr>\n",
       "      <th>3</th>\n",
       "      <td>Tudor City</td>\n",
       "      <td>40.746917</td>\n",
       "      <td>-73.971219</td>\n",
       "      <td>Baby Bo's Cantina</td>\n",
       "      <td>40.745048</td>\n",
       "      <td>-73.975748</td>\n",
       "      <td>Mexican Restaurant</td>\n",
       "      <td>3fd66200f964a52049e71ee3</td>\n",
       "      <td>183</td>\n",
       "    </tr>\n",
       "    <tr>\n",
       "      <th>4</th>\n",
       "      <td>Morningside Heights</td>\n",
       "      <td>40.808000</td>\n",
       "      <td>-73.963896</td>\n",
       "      <td>Dig Inn</td>\n",
       "      <td>40.805561</td>\n",
       "      <td>-73.965348</td>\n",
       "      <td>American Restaurant</td>\n",
       "      <td>52ebf72a498ed778f4b60252</td>\n",
       "      <td>187</td>\n",
       "    </tr>\n",
       "  </tbody>\n",
       "</table>\n",
       "</div>"
      ],
      "text/plain": [
       "          Neighborhood  Neighborhood Latitude  Neighborhood Longitude  \\\n",
       "0    Concourse Village              40.824780              -73.915847   \n",
       "1         Bedford Park              40.870185              -73.885512   \n",
       "2           Ozone Park              40.680708              -73.843203   \n",
       "3           Tudor City              40.746917              -73.971219   \n",
       "4  Morningside Heights              40.808000              -73.963896   \n",
       "\n",
       "                      Venue  Venue Latitude  Venue Longitude  \\\n",
       "0        Perry Coffee Shop.       40.823181       -73.910928   \n",
       "1           Lena Restaurant       40.869840       -73.890467   \n",
       "2  Dunkin' / Baskin-Robbins       40.681115       -73.845119   \n",
       "3         Baby Bo's Cantina       40.745048       -73.975748   \n",
       "4                   Dig Inn       40.805561       -73.965348   \n",
       "\n",
       "        Venue Category                        id  likes  \n",
       "0                Diner  4fa534cee4b0fed4819dc7d4      8  \n",
       "1   Mexican Restaurant  4c1bce70b306c92839d262b7      3  \n",
       "2           Donut Shop  4c252a61c11dc9b634bc2624     39  \n",
       "3   Mexican Restaurant  3fd66200f964a52049e71ee3    183  \n",
       "4  American Restaurant  52ebf72a498ed778f4b60252    187  "
      ]
     },
     "execution_count": 4,
     "metadata": {},
     "output_type": "execute_result"
    }
   ],
   "source": [
    "df = pd.read_csv('venues_likes_NYC.csv')\n",
    "df.head()"
   ]
  },
  {
   "cell_type": "markdown",
   "metadata": {},
   "source": [
    "The column id is related with the venue id given in FourSquare."
   ]
  },
  {
   "cell_type": "code",
   "execution_count": null,
   "metadata": {},
   "outputs": [],
   "source": []
  }
 ],
 "metadata": {
  "kernelspec": {
   "display_name": "Python 3",
   "language": "python",
   "name": "python3"
  },
  "language_info": {
   "codemirror_mode": {
    "name": "ipython",
    "version": 3
   },
   "file_extension": ".py",
   "mimetype": "text/x-python",
   "name": "python",
   "nbconvert_exporter": "python",
   "pygments_lexer": "ipython3",
   "version": "3.7.6"
  }
 },
 "nbformat": 4,
 "nbformat_minor": 4
}
